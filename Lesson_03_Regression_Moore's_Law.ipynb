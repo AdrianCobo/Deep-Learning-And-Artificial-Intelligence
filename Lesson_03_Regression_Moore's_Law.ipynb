{
  "nbformat": 4,
  "nbformat_minor": 0,
  "metadata": {
    "colab": {
      "provenance": [],
      "authorship_tag": "ABX9TyO6j0EPwyZQdIfjbVWVAX+k",
      "include_colab_link": true
    },
    "kernelspec": {
      "name": "python3",
      "display_name": "Python 3"
    },
    "language_info": {
      "name": "python"
    }
  },
  "cells": [
    {
      "cell_type": "markdown",
      "metadata": {
        "id": "view-in-github",
        "colab_type": "text"
      },
      "source": [
        "<a href=\"https://colab.research.google.com/github/AdrianCobo/Deep-Learning-And-Artificial-Intelligence/blob/main/Lesson_03_Regression_(Moore's_Law).ipynb\" target=\"_parent\"><img src=\"https://colab.research.google.com/assets/colab-badge.svg\" alt=\"Open In Colab\"/></a>"
      ]
    },
    {
      "cell_type": "code",
      "execution_count": null,
      "metadata": {
        "id": "uwG0aDTTq0BM"
      },
      "outputs": [],
      "source": [
        "import torch \n",
        "import torch.nn as nn\n",
        "import pandas as pd\n",
        "import numpy as np\n",
        "import matplotlib.pyplot as plt"
      ]
    },
    {
      "cell_type": "code",
      "source": [
        "# get the tada\n",
        "!wget https://raw.githubusercontent.com/AdrianCobo/Deep-Learning-And-Artificial-Intelligence/main/data/moore.csv"
      ],
      "metadata": {
        "colab": {
          "base_uri": "https://localhost:8080/"
        },
        "id": "gukHZtFFr40Q",
        "outputId": "62c249b9-cd88-4f5b-a9d5-46f242449548"
      },
      "execution_count": 42,
      "outputs": [
        {
          "output_type": "stream",
          "name": "stdout",
          "text": [
            "--2022-11-07 20:35:31--  https://raw.githubusercontent.com/AdrianCobo/Deep-Learning-And-Artificial-Intelligence/main/data/moore.csv\n",
            "Resolving raw.githubusercontent.com (raw.githubusercontent.com)... 185.199.108.133, 185.199.109.133, 185.199.110.133, ...\n",
            "Connecting to raw.githubusercontent.com (raw.githubusercontent.com)|185.199.108.133|:443... connected.\n",
            "HTTP request sent, awaiting response... 200 OK\n",
            "Length: 2302 (2.2K) [text/plain]\n",
            "Saving to: ‘moore.csv.1’\n",
            "\n",
            "\rmoore.csv.1           0%[                    ]       0  --.-KB/s               \rmoore.csv.1         100%[===================>]   2.25K  --.-KB/s    in 0s      \n",
            "\n",
            "2022-11-07 20:35:31 (44.3 MB/s) - ‘moore.csv.1’ saved [2302/2302]\n",
            "\n"
          ]
        }
      ]
    },
    {
      "cell_type": "code",
      "source": [
        "data = pd.read_csv('moore.csv.1', header=None).values\n",
        "X = data[:,0].reshape(-1,1) # make it a 2-D array of size M * D where D = 1\n",
        "Y = data[:,1].reshape(-1,1)\n"
      ],
      "metadata": {
        "id": "lcTajdlNy_wj"
      },
      "execution_count": 49,
      "outputs": []
    },
    {
      "cell_type": "code",
      "source": [
        "# Plot the data - it is exponential!\n",
        "plt.scatter(X, Y)"
      ],
      "metadata": {
        "colab": {
          "base_uri": "https://localhost:8080/",
          "height": 293
        },
        "id": "yWsdO5D70HBX",
        "outputId": "4a445fa5-9540-4961-e909-a503a370f4c1"
      },
      "execution_count": 50,
      "outputs": [
        {
          "output_type": "execute_result",
          "data": {
            "text/plain": [
              "<matplotlib.collections.PathCollection at 0x7f4e605b41d0>"
            ]
          },
          "metadata": {},
          "execution_count": 50
        },
        {
          "output_type": "display_data",
          "data": {
            "text/plain": [
              "<Figure size 432x288 with 1 Axes>"
            ],
            "image/png": "[encoded data removed]"
          },
          "metadata": {
            "needs_background": "light"
          }
        }
      ]
    },
    {
      "cell_type": "code",
      "source": [
        "# Since we want a linear model, let's take the log\n",
        "Y = np.log(Y)\n",
        "plt.scatter(X,Y);\n",
        "# that's better"
      ],
      "metadata": {
        "colab": {
          "base_uri": "https://localhost:8080/",
          "height": 265
        },
        "id": "FJS_9Z_P0X-S",
        "outputId": "05097881-be64-4ed7-a3c2-3ef21e51438d"
      },
      "execution_count": 51,
      "outputs": [
        {
          "output_type": "display_data",
          "data": {
            "text/plain": [
              "<Figure size 432x288 with 1 Axes>"
            ],
            "image/png": "[encoded data removed]"
          },
          "metadata": {
            "needs_background": "light"
          }
        }
      ]
    },
    {
      "cell_type": "code",
      "source": [
        "# Scale and center both the x and y axes\n",
        "mx = X.mean()\n",
        "sx = X.std()\n",
        "my = Y.mean()\n",
        "sy = Y.std()\n",
        "X = (X - mx)/sx\n",
        "Y = (Y - my)/sy"
      ],
      "metadata": {
        "id": "gUO33OfW0kI6"
      },
      "execution_count": 52,
      "outputs": []
    },
    {
      "cell_type": "code",
      "source": [
        "# Everything is centered and in a small range\n",
        "plt.scatter(X,Y)"
      ],
      "metadata": {
        "colab": {
          "base_uri": "https://localhost:8080/",
          "height": 282
        },
        "id": "hHF3a3NV03ce",
        "outputId": "486412d8-6fdd-41a2-f9c1-a1b55d9403b4"
      },
      "execution_count": 53,
      "outputs": [
        {
          "output_type": "execute_result",
          "data": {
            "text/plain": [
              "<matplotlib.collections.PathCollection at 0x7f4e600c4110>"
            ]
          },
          "metadata": {},
          "execution_count": 53
        },
        {
          "output_type": "display_data",
          "data": {
            "text/plain": [
              "<Figure size 432x288 with 1 Axes>"
            ],
            "image/png": "[encoded data removed]"
          },
          "metadata": {
            "needs_background": "light"
          }
        }
      ]
    },
    {
      "cell_type": "code",
      "source": [
        "# Cast to float32\n",
        "X = X.astype(np.float32)\n",
        "Y = Y.astype(np.float32)"
      ],
      "metadata": {
        "id": "Y1FQaSWK1PGY"
      },
      "execution_count": 54,
      "outputs": []
    },
    {
      "cell_type": "code",
      "source": [
        "# Create the linear regression model\n",
        "model = nn.Linear(1,1)"
      ],
      "metadata": {
        "id": "MRjs-JAi1Yn8"
      },
      "execution_count": 55,
      "outputs": []
    },
    {
      "cell_type": "code",
      "source": [
        "# Loss and optimizer\n",
        "criterion = nn.MSELoss()\n",
        "optimizer = torch.optim.SGD(model.parameters(), lr=0.01, momentum=0.7)"
      ],
      "metadata": {
        "id": "nh2Qb0t71eKN"
      },
      "execution_count": 56,
      "outputs": []
    },
    {
      "cell_type": "code",
      "source": [
        "inputs = torch.from_numpy(X)\n",
        "targets = torch.from_numpy(Y)"
      ],
      "metadata": {
        "id": "n5SKrD9f1qLB"
      },
      "execution_count": 57,
      "outputs": []
    },
    {
      "cell_type": "code",
      "source": [
        "type(inputs)"
      ],
      "metadata": {
        "colab": {
          "base_uri": "https://localhost:8080/"
        },
        "id": "-XDjmeOS13fF",
        "outputId": "64f47766-922d-46d2-df6b-f41e80b9eea5"
      },
      "execution_count": 58,
      "outputs": [
        {
          "output_type": "execute_result",
          "data": {
            "text/plain": [
              "torch.Tensor"
            ]
          },
          "metadata": {},
          "execution_count": 58
        }
      ]
    },
    {
      "cell_type": "code",
      "source": [
        "# Train the model\n",
        "n_epochs = 100\n",
        "losses = []\n",
        "for it in range(n_epochs):\n",
        "  # zero the parameter gradients\n",
        "  optimizer.zero_grad()\n",
        "\n",
        "  # Forward pass\n",
        "  outputs = model(inputs)\n",
        "  loss = criterion(outputs, targets)\n",
        "\n",
        "  # Record the loss\n",
        "  losses.append(loss.item())\n",
        "\n",
        "  # Backward and optimize\n",
        "  loss.backward()\n",
        "  optimizer.step()\n",
        "\n",
        "  print(f'Epoch {it+1}/{n_epochs}, Loss: {loss.item():.4f}')"
      ],
      "metadata": {
        "colab": {
          "base_uri": "https://localhost:8080/"
        },
        "id": "9Nw2Rh1S19Tg",
        "outputId": "a848438b-4fdc-4377-d8e4-19799e644903"
      },
      "execution_count": 59,
      "outputs": [
        {
          "output_type": "stream",
          "name": "stdout",
          "text": [
            "Epoch 1/100, Loss: 1.0091\n",
            "Epoch 2/100, Loss: 0.9706\n",
            "Epoch 3/100, Loss: 0.9078\n",
            "Epoch 4/100, Loss: 0.8316\n",
            "Epoch 5/100, Loss: 0.7499\n",
            "Epoch 6/100, Loss: 0.6683\n",
            "Epoch 7/100, Loss: 0.5904\n",
            "Epoch 8/100, Loss: 0.5180\n",
            "Epoch 9/100, Loss: 0.4524\n",
            "Epoch 10/100, Loss: 0.3939\n",
            "Epoch 11/100, Loss: 0.3422\n",
            "Epoch 12/100, Loss: 0.2972\n",
            "Epoch 13/100, Loss: 0.2581\n",
            "Epoch 14/100, Loss: 0.2245\n",
            "Epoch 15/100, Loss: 0.1958\n",
            "Epoch 16/100, Loss: 0.1712\n",
            "Epoch 17/100, Loss: 0.1503\n",
            "Epoch 18/100, Loss: 0.1326\n",
            "Epoch 19/100, Loss: 0.1177\n",
            "Epoch 20/100, Loss: 0.1050\n",
            "Epoch 21/100, Loss: 0.0944\n",
            "Epoch 22/100, Loss: 0.0854\n",
            "Epoch 23/100, Loss: 0.0778\n",
            "Epoch 24/100, Loss: 0.0715\n",
            "Epoch 25/100, Loss: 0.0661\n",
            "Epoch 26/100, Loss: 0.0617\n",
            "Epoch 27/100, Loss: 0.0579\n",
            "Epoch 28/100, Loss: 0.0547\n",
            "Epoch 29/100, Loss: 0.0521\n",
            "Epoch 30/100, Loss: 0.0499\n",
            "Epoch 31/100, Loss: 0.0480\n",
            "Epoch 32/100, Loss: 0.0465\n",
            "Epoch 33/100, Loss: 0.0452\n",
            "Epoch 34/100, Loss: 0.0441\n",
            "Epoch 35/100, Loss: 0.0432\n",
            "Epoch 36/100, Loss: 0.0424\n",
            "Epoch 37/100, Loss: 0.0418\n",
            "Epoch 38/100, Loss: 0.0412\n",
            "Epoch 39/100, Loss: 0.0408\n",
            "Epoch 40/100, Loss: 0.0404\n",
            "Epoch 41/100, Loss: 0.0401\n",
            "Epoch 42/100, Loss: 0.0398\n",
            "Epoch 43/100, Loss: 0.0396\n",
            "Epoch 44/100, Loss: 0.0394\n",
            "Epoch 45/100, Loss: 0.0393\n",
            "Epoch 46/100, Loss: 0.0391\n",
            "Epoch 47/100, Loss: 0.0390\n",
            "Epoch 48/100, Loss: 0.0389\n",
            "Epoch 49/100, Loss: 0.0389\n",
            "Epoch 50/100, Loss: 0.0388\n",
            "Epoch 51/100, Loss: 0.0388\n",
            "Epoch 52/100, Loss: 0.0387\n",
            "Epoch 53/100, Loss: 0.0387\n",
            "Epoch 54/100, Loss: 0.0386\n",
            "Epoch 55/100, Loss: 0.0386\n",
            "Epoch 56/100, Loss: 0.0386\n",
            "Epoch 57/100, Loss: 0.0386\n",
            "Epoch 58/100, Loss: 0.0386\n",
            "Epoch 59/100, Loss: 0.0385\n",
            "Epoch 60/100, Loss: 0.0385\n",
            "Epoch 61/100, Loss: 0.0385\n",
            "Epoch 62/100, Loss: 0.0385\n",
            "Epoch 63/100, Loss: 0.0385\n",
            "Epoch 64/100, Loss: 0.0385\n",
            "Epoch 65/100, Loss: 0.0385\n",
            "Epoch 66/100, Loss: 0.0385\n",
            "Epoch 67/100, Loss: 0.0385\n",
            "Epoch 68/100, Loss: 0.0385\n",
            "Epoch 69/100, Loss: 0.0385\n",
            "Epoch 70/100, Loss: 0.0385\n",
            "Epoch 71/100, Loss: 0.0385\n",
            "Epoch 72/100, Loss: 0.0385\n",
            "Epoch 73/100, Loss: 0.0385\n",
            "Epoch 74/100, Loss: 0.0385\n",
            "Epoch 75/100, Loss: 0.0385\n",
            "Epoch 76/100, Loss: 0.0385\n",
            "Epoch 77/100, Loss: 0.0385\n",
            "Epoch 78/100, Loss: 0.0385\n",
            "Epoch 79/100, Loss: 0.0385\n",
            "Epoch 80/100, Loss: 0.0385\n",
            "Epoch 81/100, Loss: 0.0385\n",
            "Epoch 82/100, Loss: 0.0385\n",
            "Epoch 83/100, Loss: 0.0385\n",
            "Epoch 84/100, Loss: 0.0385\n",
            "Epoch 85/100, Loss: 0.0385\n",
            "Epoch 86/100, Loss: 0.0385\n",
            "Epoch 87/100, Loss: 0.0385\n",
            "Epoch 88/100, Loss: 0.0385\n",
            "Epoch 89/100, Loss: 0.0385\n",
            "Epoch 90/100, Loss: 0.0385\n",
            "Epoch 91/100, Loss: 0.0385\n",
            "Epoch 92/100, Loss: 0.0385\n",
            "Epoch 93/100, Loss: 0.0385\n",
            "Epoch 94/100, Loss: 0.0385\n",
            "Epoch 95/100, Loss: 0.0385\n",
            "Epoch 96/100, Loss: 0.0385\n",
            "Epoch 97/100, Loss: 0.0385\n",
            "Epoch 98/100, Loss: 0.0385\n",
            "Epoch 99/100, Loss: 0.0385\n",
            "Epoch 100/100, Loss: 0.0385\n"
          ]
        }
      ]
    },
    {
      "cell_type": "code",
      "source": [
        "# Loss per iterations\n",
        "plt.plot(losses);"
      ],
      "metadata": {
        "colab": {
          "base_uri": "https://localhost:8080/",
          "height": 265
        },
        "id": "ta9YFXE-2zog",
        "outputId": "426c6b05-37a8-48a5-9c6d-9295c061451e"
      },
      "execution_count": 60,
      "outputs": [
        {
          "output_type": "display_data",
          "data": {
            "text/plain": [
              "<Figure size 432x288 with 1 Axes>"
            ],
            "image/png": "[encoded data removed]"
          },
          "metadata": {
            "needs_background": "light"
          }
        }
      ]
    },
    {
      "cell_type": "code",
      "source": [
        "# Plot the graph\n",
        "predicted = model(torch.from_numpy(X)).detach().numpy()\n",
        "plt.plot(X, Y, 'ro', label='Original Data')\n",
        "plt.plot(X, predicted, label='Fitted line')\n",
        "plt.legend()\n",
        "plt.show()"
      ],
      "metadata": {
        "colab": {
          "base_uri": "https://localhost:8080/",
          "height": 265
        },
        "id": "BTxQOTzy29Z3",
        "outputId": "88fdc8d2-2bea-4585-f1cd-94c30619da21"
      },
      "execution_count": 61,
      "outputs": [
        {
          "output_type": "display_data",
          "data": {
            "text/plain": [
              "<Figure size 432x288 with 1 Axes>"
            ],
            "image/png": "[encoded data removed]"
          },
          "metadata": {
            "needs_background": "light"
          }
        }
      ]
    },
    {
      "cell_type": "code",
      "source": [
        "# What does this mean? see: https://youtu.be/i-FRnVTq1Lk?t=4036\n",
        "w = model.weight.data.numpy()\n",
        "print(w)"
      ],
      "metadata": {
        "colab": {
          "base_uri": "https://localhost:8080/"
        },
        "id": "UpCtAu7d3dgX",
        "outputId": "46869498-01e4-4d1a-de96-8e83b677c24a"
      },
      "execution_count": 62,
      "outputs": [
        {
          "output_type": "stream",
          "name": "stdout",
          "text": [
            "[[0.98054457]]\n"
          ]
        }
      ]
    },
    {
      "cell_type": "code",
      "source": [
        "a = w[0,0] * sy / sx\n",
        "print(a)"
      ],
      "metadata": {
        "colab": {
          "base_uri": "https://localhost:8080/"
        },
        "id": "6LxWfWcf5vDE",
        "outputId": "964cca92-de8f-4056-bada-3c4796d7e8ef"
      },
      "execution_count": 63,
      "outputs": [
        {
          "output_type": "stream",
          "name": "stdout",
          "text": [
            "0.34167323389125015\n"
          ]
        }
      ]
    },
    {
      "cell_type": "code",
      "source": [
        "print(\"Time to double:\", np.log(2)/a)"
      ],
      "metadata": {
        "colab": {
          "base_uri": "https://localhost:8080/"
        },
        "id": "Z0tMckj-5iSE",
        "outputId": "637a6a4c-6ae5-47a3-eafa-2cad5cdd458a"
      },
      "execution_count": 64,
      "outputs": [
        {
          "output_type": "stream",
          "name": "stdout",
          "text": [
            "Time to double: 2.0286844616589557\n"
          ]
        }
      ]
    }
  ]
}