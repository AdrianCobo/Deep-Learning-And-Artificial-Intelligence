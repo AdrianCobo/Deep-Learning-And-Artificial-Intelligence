{
  "nbformat": 4,
  "nbformat_minor": 0,
  "metadata": {
    "colab": {
      "provenance": [],
      "authorship_tag": "ABX9TyMTDwieXqXb4Fr+s502ws+v",
      "include_colab_link": true
    },
    "kernelspec": {
      "name": "python3",
      "display_name": "Python 3"
    },
    "language_info": {
      "name": "python"
    }
  },
  "cells": [
    {
      "cell_type": "markdown",
      "metadata": {
        "id": "view-in-github",
        "colab_type": "text"
      },
      "source": [
        "<a href=\"https://colab.research.google.com/github/AdrianCobo/Deep-Learning-And-Artificial-Intelligence/blob/main/Lesson_03_Pytorch_Linear_Regression.ipynb\" target=\"_parent\"><img src=\"https://colab.research.google.com/assets/colab-badge.svg\" alt=\"Open In Colab\"/></a>"
      ]
    },
    {
      "cell_type": "code",
      "execution_count": 23,
      "metadata": {
        "id": "ifwUGBNFXqrQ"
      },
      "outputs": [],
      "source": [
        "import torch\n",
        "import torch.nn as nn\n",
        "import numpy as np\n",
        "import matplotlib.pyplot as plt"
      ]
    },
    {
      "cell_type": "code",
      "source": [
        "# we sould like to generate 20 data points\n",
        "N = 20\n",
        "\n",
        "# random data on the x-axis in (-5, +5)\n",
        "X = np.random.random(N)*10 - 5\n",
        "\n",
        "# a line plus some noise\n",
        "Y = 0.5 * X - 1 + np.random.randn(N)"
      ],
      "metadata": {
        "id": "NMDYkbSLX4k1"
      },
      "execution_count": 24,
      "outputs": []
    },
    {
      "cell_type": "code",
      "source": [
        "# Plot the data \n",
        "plt.scatter(X,Y);"
      ],
      "metadata": {
        "colab": {
          "base_uri": "https://localhost:8080/",
          "height": 265
        },
        "id": "MyRRmtpfYwZc",
        "outputId": "11ebcac8-d0c2-45dd-aeac-5c7f82a4a186"
      },
      "execution_count": 25,
      "outputs": [
        {
          "output_type": "display_data",
          "data": {
            "text/plain": [
              "<Figure size 432x288 with 1 Axes>"
            ],
            "image/png": "[encoded data removed]"
          },
          "metadata": {
            "needs_background": "light"
          }
        }
      ]
    },
    {
      "cell_type": "code",
      "source": [
        "# create the linear regression model\n",
        "model = nn.Linear(1,1)"
      ],
      "metadata": {
        "id": "FD1soCvZY7UD"
      },
      "execution_count": 26,
      "outputs": []
    },
    {
      "cell_type": "code",
      "source": [
        "# Loss and optimizer\n",
        "criterion = nn.MSELoss()\n",
        "optimizer = torch.optim.SGD(model.parameters(),lr=0.1)"
      ],
      "metadata": {
        "id": "PsVqqZPUZAsk"
      },
      "execution_count": 27,
      "outputs": []
    },
    {
      "cell_type": "code",
      "source": [
        "# In ML we want our data to be of shape:\n",
        "# (num_samples x num_dimensions)\n",
        "X = X.reshape(N,1)\n",
        "Y = Y.reshape(N,1)\n",
        "\n",
        "# PyTorch uses float32 by default\n",
        "# Numpy create float64 by default\n",
        "inputs = torch.from_numpy(X.astype(np.float32))\n",
        "targets = torch.from_numpy(Y.astype(np.float32))"
      ],
      "metadata": {
        "id": "SZkT_-VNZMcl"
      },
      "execution_count": 28,
      "outputs": []
    },
    {
      "cell_type": "code",
      "source": [
        "type(inputs)"
      ],
      "metadata": {
        "colab": {
          "base_uri": "https://localhost:8080/"
        },
        "id": "aweMDMdkZr5F",
        "outputId": "85540bab-b2d2-4a4b-cfd9-7ad8d907475f"
      },
      "execution_count": 29,
      "outputs": [
        {
          "output_type": "execute_result",
          "data": {
            "text/plain": [
              "torch.Tensor"
            ]
          },
          "metadata": {},
          "execution_count": 29
        }
      ]
    },
    {
      "cell_type": "code",
      "source": [
        "# Train the model\n",
        "n_epochs = 30\n",
        "losses = []\n",
        "for it in range(n_epochs):\n",
        "  # zero the parameter gradients\n",
        "  optimizer.zero_grad()\n",
        "  \n",
        "  # Forward pass\n",
        "  outputs = model(inputs)\n",
        "  loss = criterion(outputs, targets)\n",
        "\n",
        "  # Keep the loss so we can plot it later\n",
        "  losses.append(loss.item())\n",
        "\n",
        "  # Backward and optimize\n",
        "  loss.backward()\n",
        "  optimizer.step()\n",
        "  print(f'Epoch {it+1}/{n_epochs}, Loss: {loss.item():.4f}')"
      ],
      "metadata": {
        "colab": {
          "base_uri": "https://localhost:8080/"
        },
        "id": "9sa0yIwubf2M",
        "outputId": "58947dbd-cf21-49bf-de56-76b8d08b8764"
      },
      "execution_count": 30,
      "outputs": [
        {
          "output_type": "stream",
          "name": "stdout",
          "text": [
            "Epoch 1/30, Loss: 1.0521\n",
            "Epoch 2/30, Loss: 0.7125\n",
            "Epoch 3/30, Loss: 0.5838\n",
            "Epoch 4/30, Loss: 0.5198\n",
            "Epoch 5/30, Loss: 0.4825\n",
            "Epoch 6/30, Loss: 0.4595\n",
            "Epoch 7/30, Loss: 0.4449\n",
            "Epoch 8/30, Loss: 0.4356\n",
            "Epoch 9/30, Loss: 0.4296\n",
            "Epoch 10/30, Loss: 0.4258\n",
            "Epoch 11/30, Loss: 0.4234\n",
            "Epoch 12/30, Loss: 0.4218\n",
            "Epoch 13/30, Loss: 0.4208\n",
            "Epoch 14/30, Loss: 0.4202\n",
            "Epoch 15/30, Loss: 0.4198\n",
            "Epoch 16/30, Loss: 0.4195\n",
            "Epoch 17/30, Loss: 0.4193\n",
            "Epoch 18/30, Loss: 0.4192\n",
            "Epoch 19/30, Loss: 0.4192\n",
            "Epoch 20/30, Loss: 0.4191\n",
            "Epoch 21/30, Loss: 0.4191\n",
            "Epoch 22/30, Loss: 0.4191\n",
            "Epoch 23/30, Loss: 0.4191\n",
            "Epoch 24/30, Loss: 0.4191\n",
            "Epoch 25/30, Loss: 0.4191\n",
            "Epoch 26/30, Loss: 0.4190\n",
            "Epoch 27/30, Loss: 0.4190\n",
            "Epoch 28/30, Loss: 0.4190\n",
            "Epoch 29/30, Loss: 0.4190\n",
            "Epoch 30/30, Loss: 0.4190\n"
          ]
        }
      ]
    },
    {
      "cell_type": "code",
      "source": [
        "plt.plot(losses);"
      ],
      "metadata": {
        "colab": {
          "base_uri": "https://localhost:8080/",
          "height": 265
        },
        "id": "Vm7A5wnkdip-",
        "outputId": "aa9bdeaf-67fd-485d-eeaf-844d36cbf48e"
      },
      "execution_count": 31,
      "outputs": [
        {
          "output_type": "display_data",
          "data": {
            "text/plain": [
              "<Figure size 432x288 with 1 Axes>"
            ],
            "image/png": "[encoded data removed]"
          },
          "metadata": {
            "needs_background": "light"
          }
        }
      ]
    },
    {
      "cell_type": "code",
      "source": [
        "# Plot the graph\n",
        "predicted = model(inputs).detach().numpy()\n",
        "plt.scatter(X, Y, label='Original data')\n",
        "plt.plot(X, predicted, label='Fitted line')\n",
        "plt.legend()\n",
        "plt.show()"
      ],
      "metadata": {
        "colab": {
          "base_uri": "https://localhost:8080/",
          "height": 265
        },
        "id": "8NUIX1QEdxJU",
        "outputId": "dd80f8a0-d6b7-4b36-8e70-44299e66c7e0"
      },
      "execution_count": 32,
      "outputs": [
        {
          "output_type": "display_data",
          "data": {
            "text/plain": [
              "<Figure size 432x288 with 1 Axes>"
            ],
            "image/png": "[encoded data removed]"
          },
          "metadata": {
            "needs_background": "light"
          }
        }
      ]
    },
    {
      "cell_type": "code",
      "source": [
        "# Another way\n",
        "with torch.no_grad():\n",
        "  out = model(inputs).numpy()\n",
        "out"
      ],
      "metadata": {
        "colab": {
          "base_uri": "https://localhost:8080/"
        },
        "id": "GhC2hb3OefR4",
        "outputId": "be424460-b791-433c-96c7-0e7d9f3788bc"
      },
      "execution_count": 33,
      "outputs": [
        {
          "output_type": "execute_result",
          "data": {
            "text/plain": [
              "array([[-0.08579409],\n",
              "       [-0.2024082 ],\n",
              "       [-3.7946548 ],\n",
              "       [ 0.7424773 ],\n",
              "       [ 0.93324006],\n",
              "       [-1.0208517 ],\n",
              "       [-1.2843187 ],\n",
              "       [-1.967594  ],\n",
              "       [-2.5264955 ],\n",
              "       [-2.652929  ],\n",
              "       [-3.7305107 ],\n",
              "       [-1.5242655 ],\n",
              "       [-2.087653  ],\n",
              "       [-2.9039166 ],\n",
              "       [-1.6524708 ],\n",
              "       [ 0.92679894],\n",
              "       [-0.22476256],\n",
              "       [-1.3239965 ],\n",
              "       [-2.7392533 ],\n",
              "       [-0.14185071]], dtype=float32)"
            ]
          },
          "metadata": {},
          "execution_count": 33
        }
      ]
    },
    {
      "cell_type": "code",
      "source": [
        "# Important!\n",
        "# In order to test the efficacy of our model, synthetic data is useful\n",
        "# Why?\n",
        "# Because ***we know the answer***\n",
        "# True values of (w, b) are (0.5, -1)\n",
        "w = model.weight.data.numpy()\n",
        "b = model.bias.data.numpy()\n",
        "print(w,b)"
      ],
      "metadata": {
        "colab": {
          "base_uri": "https://localhost:8080/"
        },
        "id": "Qa74aq4Ber65",
        "outputId": "b7688a43-8cee-477f-bd52-098db17c223b"
      },
      "execution_count": 34,
      "outputs": [
        {
          "output_type": "stream",
          "name": "stdout",
          "text": [
            "[[0.52876985]] [-1.3435329]\n"
          ]
        }
      ]
    }
  ]
}